{
 "cells": [
  {
   "cell_type": "code",
   "execution_count": 2,
   "id": "084c632f",
   "metadata": {},
   "outputs": [
    {
     "name": "stdout",
     "output_type": "stream",
     "text": [
      "<class 'pandas.core.frame.DataFrame'>\n",
      "RangeIndex: 230324 entries, 0 to 230323\n",
      "Data columns (total 6 columns):\n",
      " #   Column          Non-Null Count   Dtype  \n",
      "---  ------          --------------   -----  \n",
      " 0   Date            230324 non-null  object \n",
      " 1   Country/Region  230324 non-null  object \n",
      " 2   Province/State  72179 non-null   object \n",
      " 3   Confirmed       230324 non-null  int64  \n",
      " 4   Recovered       217348 non-null  float64\n",
      " 5   Deaths          230324 non-null  int64  \n",
      "dtypes: float64(1), int64(2), object(3)\n",
      "memory usage: 10.5+ MB\n"
     ]
    }
   ],
   "source": [
    "import numpy as np\n",
    "import pandas as pd\n",
    "covid = pd.read_csv('covid.csv')\n",
    "covid.info()"
   ]
  },
  {
   "cell_type": "code",
   "execution_count": 64,
   "id": "5934ca06",
   "metadata": {
    "scrolled": true
   },
   "outputs": [
    {
     "name": "stdout",
     "output_type": "stream",
     "text": [
      "Mời nhập năm: 2020\n"
     ]
    }
   ],
   "source": [
    "year_in=int(input(\"Mời nhập năm: \"))"
   ]
  },
  {
   "cell_type": "code",
   "execution_count": 95,
   "id": "b47fd0e1",
   "metadata": {
    "scrolled": true
   },
   "outputs": [
    {
     "name": "stdout",
     "output_type": "stream",
     "text": [
      "Mời nhập quốc gia: China\n"
     ]
    }
   ],
   "source": [
    "country_in=input(\"Mời nhập quốc gia: \")"
   ]
  },
  {
   "cell_type": "markdown",
   "id": "c0e42045",
   "metadata": {},
   "source": []
  },
  {
   "cell_type": "code",
   "execution_count": 75,
   "id": "0dfd57ab",
   "metadata": {
    "scrolled": false
   },
   "outputs": [
    {
     "name": "stdout",
     "output_type": "stream",
     "text": [
      "             Date Country/Region Province/State  Confirmed  Recovered  Deaths\n",
      "0      2020-01-22    Afghanistan              0          0        0.0       0\n",
      "1      2020-01-23    Afghanistan              0          0        0.0       0\n",
      "2      2020-01-24    Afghanistan              0          0        0.0       0\n",
      "3      2020-01-25    Afghanistan              0          0        0.0       0\n",
      "4      2020-01-26    Afghanistan              0          0        0.0       0\n",
      "...           ...            ...            ...        ...        ...     ...\n",
      "229853 2020-12-27       Zimbabwe              0      13077    10593.0     349\n",
      "229854 2020-12-28       Zimbabwe              0      13148    10705.0     354\n",
      "229855 2020-12-29       Zimbabwe              0      13325    11067.0     359\n",
      "229856 2020-12-30       Zimbabwe              0      13625    11154.0     360\n",
      "229857 2020-12-31       Zimbabwe              0      13867    11250.0     363\n",
      "\n",
      "[97980 rows x 6 columns]\n"
     ]
    }
   ],
   "source": [
    "#Lấp các trường None\n",
    "covid=covid.fillna(0)\n",
    "#Convert cột Date-> ngày tháng\n",
    "covid_year_in=covid[covid['Date'].dt.year==year_in]\n",
    "print(covid_year_in)"
   ]
  },
  {
   "cell_type": "code",
   "execution_count": 101,
   "id": "7f09dd4f",
   "metadata": {
    "scrolled": true
   },
   "outputs": [],
   "source": [
    "import numpy as np\n",
    "import matplotlib.pyplot as plt\n",
    "import calendar\n",
    "\n",
    "numpy_covid=covid.to_numpy()\n",
    "confirmed=np.zeros(12)\n",
    "recovered=np.zeros(12)\n",
    "deaths=np.zeros(12)\n",
    "\n",
    "confirmed_country=np.zeros(12)\n",
    "recovered_country=np.zeros(12)\n",
    "deaths_country=np.zeros(12)\n",
    "\n",
    "for ngaythang,nuoc,tinh,nhiem,khoi,tuvong in numpy_covid:\n",
    "    for thang in range (1,13):\n",
    "        if ngaythang.year==year_in and ngaythang.is_month_end:\n",
    "            confirmed[ngaythang.month-1]+=nhiem #cộng dồn các ngày cuối tháng\n",
    "            recovered[ngaythang.month-1]+=khoi\n",
    "            deaths[ngaythang.month-1]+=tuvong\n",
    "            if nuoc.lower()==country_in.lower(): #Convert sang hết chữ thường để thuạn lợi khi nhập\n",
    "                confirmed_country[ngaythang.month-1]=nhiem\n",
    "                recovered_country[ngaythang.month-1]=khoi\n",
    "                deaths_country[ngaythang.month-1]=tuvong\n"
   ]
  },
  {
   "cell_type": "markdown",
   "id": "ed996492",
   "metadata": {},
   "source": [
    "# Vẽ biểu đồ ca nhiễm toàn thế giới"
   ]
  },
  {
   "cell_type": "code",
   "execution_count": null,
   "id": "4affb46b",
   "metadata": {},
   "outputs": [],
   "source": [
    "\n",
    "#Vẽ đồ thị\n",
    "plt.plot(confirmed,'r',label='Ca nhiễm')\n",
    "plt.plot(recovered,'b-',label='Ca đã khỏi')\n",
    "plt.plot(deaths,'k',label='Ca tử vong')\n",
    "plt.legend()\n",
    "plt.title(f'BIỂU ĐỒ SỐ CA MẮC, KHỎI, TỬ VONG CỦA THẾ GIỚI TRONG NĂM {year_in}')"
   ]
  },
  {
   "cell_type": "markdown",
   "id": "b1495522",
   "metadata": {},
   "source": [
    "# Vẽ biểu đồ covid theo năm và nước nhập vào"
   ]
  },
  {
   "cell_type": "code",
   "execution_count": 99,
   "id": "e7742cff",
   "metadata": {},
   "outputs": [
    {
     "data": {
      "text/plain": [
       "Text(0.5, 1.0, 'BIỂU ĐỒ SỐ CA MẮC, KHỎI, TỬ VONG CỦA China TRONG NĂM 2020')"
      ]
     },
     "execution_count": 99,
     "metadata": {},
     "output_type": "execute_result"
    },
    {
     "data": {
      "image/png": "[encoded data removed]",
      "text/plain": [
       "<Figure size 432x288 with 1 Axes>"
      ]
     },
     "metadata": {
      "needs_background": "light"
     },
     "output_type": "display_data"
    }
   ],
   "source": [
    "#Vẽ đồ thị\n",
    "plt.plot(confirmed_country,'r',label='Ca nhiễm')\n",
    "plt.plot(recovered_country,'b-',label='Ca đã khỏi')\n",
    "plt.plot(deaths_country,'k--',label='Ca tử vong')\n",
    "plt.legend()\n",
    "plt.title(f'BIỂU ĐỒ SỐ CA MẮC, KHỎI, TỬ VONG CỦA {country_in} TRONG NĂM {year_in}')"
   ]
  },
  {
   "cell_type": "markdown",
   "id": "bb4a5ff2",
   "metadata": {},
   "source": [
    "# Vẽ biểu đồ covid nước Việt Nam năm 2020"
   ]
  },
  {
   "cell_type": "code",
   "execution_count": 111,
   "id": "7cf6d33b",
   "metadata": {},
   "outputs": [
    {
     "data": {
      "text/plain": [
       "Text(0.5, 1.0, 'BIỂU ĐỒ COVID VIỆT NAM QUA CÁC NĂM')"
      ]
     },
     "execution_count": 111,
     "metadata": {},
     "output_type": "execute_result"
    },
    {
     "data": {
      "image/png": "[encoded data removed]",
      "text/plain": [
       "<Figure size 432x288 with 1 Axes>"
      ]
     },
     "metadata": {
      "needs_background": "light"
     },
     "output_type": "display_data"
    }
   ],
   "source": [
    "# lấy theo quốc gia\n",
    "covid_VN=numpy_covid[numpy_covid[:,1]=='Vietnam']\n",
    "# Vẽ biểu đồ\n",
    "x=covid_VN[:,0]\n",
    "y_nhiem=covid_VN[:,3]\n",
    "z_khoi=covid_VN[:,4]\n",
    "t_tuvong=covid_VN[:,5]\n",
    "plt.plot(x,y_nhiem,'r',label='Ca nhiễm')\n",
    "plt.plot(x,z_khoi,'y',label='Ca đã khỏi')\n",
    "plt.plot(x,t_tuvong,'b',label='Ca tử vong')\n",
    "plt.legend()\n",
    "plt.title(f\"BIỂU ĐỒ COVID VIỆT NAM QUA CÁC NĂM\")"
   ]
  },
  {
   "cell_type": "code",
   "execution_count": 183,
   "id": "3ace4005",
   "metadata": {
    "scrolled": true
   },
   "outputs": [
    {
     "data": {
      "text/plain": [
       "Text(0.5, 1.0, 'Biểu đồ histogram ca tử vong của Việt nam qua các năm')"
      ]
     },
     "execution_count": 183,
     "metadata": {},
     "output_type": "execute_result"
    },
    {
     "data": {
      "image/png": "[encoded data removed]",
      "text/plain": [
       "<Figure size 432x288 with 1 Axes>"
      ]
     },
     "metadata": {
      "needs_background": "light"
     },
     "output_type": "display_data"
    }
   ],
   "source": [
    "import seaborn as sns\n",
    "sns.histplot(x=a,data=d)\n"
   ]
  }
 ],
 "metadata": {
  "kernelspec": {
   "display_name": "Python 3 (ipykernel)",
   "language": "python",
   "name": "python3"
  },
  "language_info": {
   "codemirror_mode": {
    "name": "ipython",
    "version": 3
   },
   "file_extension": ".py",
   "mimetype": "text/x-python",
   "name": "python",
   "nbconvert_exporter": "python",
   "pygments_lexer": "ipython3",
   "version": "3.9.7"
  }
 },
 "nbformat": 4,
 "nbformat_minor": 5
}
